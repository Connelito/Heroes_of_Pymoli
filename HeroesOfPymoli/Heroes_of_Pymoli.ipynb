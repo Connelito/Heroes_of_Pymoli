{
 "cells": [
  {
   "cell_type": "code",
   "execution_count": 1,
   "metadata": {},
   "outputs": [],
   "source": [
    "# Dependencies and Setup\n",
    "import pandas as pd\n",
    "import numpy as np\n",
    "\n",
    "# File to Load\n",
    "csv_path = \"Resources/purchase_data.csv\"\n",
    "\n",
    "# Read Purchasing File and store into Pandas data frame\n",
    "purchase_df = pd.read_csv(csv_path)"
   ]
  },
  {
   "cell_type": "markdown",
   "metadata": {},
   "source": [
    "## Player Count"
   ]
  },
  {
   "cell_type": "code",
   "execution_count": 2,
   "metadata": {},
   "outputs": [
    {
     "name": "stdout",
     "output_type": "stream",
     "text": [
      "<class 'pandas.core.frame.DataFrame'>\n",
      "RangeIndex: 780 entries, 0 to 779\n",
      "Data columns (total 7 columns):\n",
      " #   Column       Non-Null Count  Dtype  \n",
      "---  ------       --------------  -----  \n",
      " 0   Purchase ID  780 non-null    int64  \n",
      " 1   SN           780 non-null    object \n",
      " 2   Age          780 non-null    int64  \n",
      " 3   Gender       780 non-null    object \n",
      " 4   Item ID      780 non-null    int64  \n",
      " 5   Item Name    780 non-null    object \n",
      " 6   Price        780 non-null    float64\n",
      "dtypes: float64(1), int64(3), object(3)\n",
      "memory usage: 42.8+ KB\n"
     ]
    }
   ],
   "source": [
    "# Show purchase_df information\n",
    "purchase_df.info()"
   ]
  },
  {
   "cell_type": "code",
   "execution_count": 3,
   "metadata": {},
   "outputs": [],
   "source": [
    "# Find total number of players from 'SN' column; they are exclusive to each player\n",
    "player_count = len(purchase_df['SN'].value_counts())"
   ]
  },
  {
   "cell_type": "code",
   "execution_count": 4,
   "metadata": {},
   "outputs": [
    {
     "data": {
      "text/html": [
       "<div>\n",
       "<style scoped>\n",
       "    .dataframe tbody tr th:only-of-type {\n",
       "        vertical-align: middle;\n",
       "    }\n",
       "\n",
       "    .dataframe tbody tr th {\n",
       "        vertical-align: top;\n",
       "    }\n",
       "\n",
       "    .dataframe thead th {\n",
       "        text-align: right;\n",
       "    }\n",
       "</style>\n",
       "<table border=\"1\" class=\"dataframe\">\n",
       "  <thead>\n",
       "    <tr style=\"text-align: right;\">\n",
       "      <th></th>\n",
       "      <th>Total Players</th>\n",
       "    </tr>\n",
       "  </thead>\n",
       "  <tbody>\n",
       "    <tr>\n",
       "      <th>0</th>\n",
       "      <td>576</td>\n",
       "    </tr>\n",
       "  </tbody>\n",
       "</table>\n",
       "</div>"
      ],
      "text/plain": [
       "   Total Players\n",
       "0            576"
      ]
     },
     "execution_count": 4,
     "metadata": {},
     "output_type": "execute_result"
    }
   ],
   "source": [
    "# Put total players in a DataFrame\n",
    "player_count_df = pd.DataFrame({'Total Players':[player_count]})\n",
    "player_count_df"
   ]
  },
  {
   "cell_type": "markdown",
   "metadata": {},
   "source": [
    "## Purchasing Analysis (Total)"
   ]
  },
  {
   "cell_type": "code",
   "execution_count": 5,
   "metadata": {},
   "outputs": [],
   "source": [
    "# Find number of unique items from the 'Item ID' column\n",
    "unique_items = purchase_df['Item ID'].nunique()"
   ]
  },
  {
   "cell_type": "code",
   "execution_count": 6,
   "metadata": {},
   "outputs": [],
   "source": [
    "# Find average price of all purchases from the 'Price' column and round to 2 decimal places\n",
    "avg_price = purchase_df['Price'].mean()\n",
    "avg_price = round(avg_price,2)"
   ]
  },
  {
   "cell_type": "code",
   "execution_count": 7,
   "metadata": {},
   "outputs": [],
   "source": [
    "# Find number of purchases from the 'Purchase ID' column\n",
    "total_purchases = len(purchase_df['Purchase ID'])"
   ]
  },
  {
   "cell_type": "code",
   "execution_count": 8,
   "metadata": {},
   "outputs": [],
   "source": [
    "# Find total revenue from the 'Price' column\n",
    "total_revenue = purchase_df['Price'].sum()"
   ]
  },
  {
   "cell_type": "code",
   "execution_count": 9,
   "metadata": {},
   "outputs": [],
   "source": [
    "# Put purchase analysis (total) into a DataFrame\n",
    "purchase_analysis_total_df = pd.DataFrame({'Number of Unique Items': [unique_items],\n",
    "                                           'Average Price': [avg_price],\n",
    "                                           'Number of Purchases': [total_purchases],\n",
    "                                           'Total Revenue': [total_revenue]})"
   ]
  },
  {
   "cell_type": "code",
   "execution_count": 10,
   "metadata": {},
   "outputs": [
    {
     "data": {
      "text/html": [
       "<style  type=\"text/css\" >\n",
       "</style><table id=\"T_7172f_\" ><thead>    <tr>        <th class=\"blank level0\" ></th>        <th class=\"col_heading level0 col0\" >Number of Unique Items</th>        <th class=\"col_heading level0 col1\" >Average Price</th>        <th class=\"col_heading level0 col2\" >Number of Purchases</th>        <th class=\"col_heading level0 col3\" >Total Revenue</th>    </tr></thead><tbody>\n",
       "                <tr>\n",
       "                        <th id=\"T_7172f_level0_row0\" class=\"row_heading level0 row0\" >0</th>\n",
       "                        <td id=\"T_7172f_row0_col0\" class=\"data row0 col0\" >179</td>\n",
       "                        <td id=\"T_7172f_row0_col1\" class=\"data row0 col1\" >$3.05</td>\n",
       "                        <td id=\"T_7172f_row0_col2\" class=\"data row0 col2\" >780</td>\n",
       "                        <td id=\"T_7172f_row0_col3\" class=\"data row0 col3\" >$2,379.77</td>\n",
       "            </tr>\n",
       "    </tbody></table>"
      ],
      "text/plain": [
       "<pandas.io.formats.style.Styler at 0x1f031842130>"
      ]
     },
     "execution_count": 10,
     "metadata": {},
     "output_type": "execute_result"
    }
   ],
   "source": [
    "# Format style for purchase analysis to include dollar signs in front of 'Average Price' and 'Total Revenue' rounded 2 decimal places\n",
    "purchase_analysis_total_df.style.format({'Average Price': '${:,.2f}',\n",
    "                                         'Total Revenue': '${:,.2f}'})"
   ]
  },
  {
   "cell_type": "markdown",
   "metadata": {},
   "source": [
    "## Gender Demographics"
   ]
  },
  {
   "cell_type": "code",
   "execution_count": 11,
   "metadata": {},
   "outputs": [],
   "source": [
    "# Group purchases together by gender\n",
    "gender = purchase_df.groupby('Gender')"
   ]
  },
  {
   "cell_type": "code",
   "execution_count": 12,
   "metadata": {},
   "outputs": [],
   "source": [
    "# Seperate and count genders according to 'SN'\n",
    "total_gender_count = gender.nunique()['SN']"
   ]
  },
  {
   "cell_type": "code",
   "execution_count": 13,
   "metadata": {},
   "outputs": [],
   "source": [
    "# Find percentages of players according to gender\n",
    "gender_percent = total_gender_count / player_count * 100"
   ]
  },
  {
   "cell_type": "code",
   "execution_count": 14,
   "metadata": {},
   "outputs": [],
   "source": [
    "# Put gender demographics into a DataFrame\n",
    "gender_demographics_df = pd.DataFrame({'Total Count': total_gender_count,\n",
    "                                       'Percentage of Players': gender_percent})"
   ]
  },
  {
   "cell_type": "code",
   "execution_count": 15,
   "metadata": {},
   "outputs": [],
   "source": [
    "# Drop 'Gender' from index\n",
    "gender_demographics_df.index.name = ('')"
   ]
  },
  {
   "cell_type": "code",
   "execution_count": 16,
   "metadata": {},
   "outputs": [],
   "source": [
    "# Sort by 'Total Count' and format gender demographics 'Percentage of Players' with percentage sign\n",
    "gender_demographics_df = gender_demographics_df.sort_values(['Total Count'], ascending = False)"
   ]
  },
  {
   "cell_type": "code",
   "execution_count": 17,
   "metadata": {},
   "outputs": [
    {
     "data": {
      "text/html": [
       "<style  type=\"text/css\" >\n",
       "</style><table id=\"T_a6db4_\" ><thead>    <tr>        <th class=\"blank level0\" ></th>        <th class=\"col_heading level0 col0\" >Total Count</th>        <th class=\"col_heading level0 col1\" >Percentage of Players</th>    </tr>    <tr>        <th class=\"index_name level0\" ></th>        <th class=\"blank\" ></th>        <th class=\"blank\" ></th>    </tr></thead><tbody>\n",
       "                <tr>\n",
       "                        <th id=\"T_a6db4_level0_row0\" class=\"row_heading level0 row0\" >Male</th>\n",
       "                        <td id=\"T_a6db4_row0_col0\" class=\"data row0 col0\" >484</td>\n",
       "                        <td id=\"T_a6db4_row0_col1\" class=\"data row0 col1\" >84.03%</td>\n",
       "            </tr>\n",
       "            <tr>\n",
       "                        <th id=\"T_a6db4_level0_row1\" class=\"row_heading level0 row1\" >Female</th>\n",
       "                        <td id=\"T_a6db4_row1_col0\" class=\"data row1 col0\" >81</td>\n",
       "                        <td id=\"T_a6db4_row1_col1\" class=\"data row1 col1\" >14.06%</td>\n",
       "            </tr>\n",
       "            <tr>\n",
       "                        <th id=\"T_a6db4_level0_row2\" class=\"row_heading level0 row2\" >Other / Non-Disclosed</th>\n",
       "                        <td id=\"T_a6db4_row2_col0\" class=\"data row2 col0\" >11</td>\n",
       "                        <td id=\"T_a6db4_row2_col1\" class=\"data row2 col1\" >1.91%</td>\n",
       "            </tr>\n",
       "    </tbody></table>"
      ],
      "text/plain": [
       "<pandas.io.formats.style.Styler at 0x1f0329ac6a0>"
      ]
     },
     "execution_count": 17,
     "metadata": {},
     "output_type": "execute_result"
    }
   ],
   "source": [
    "# Format style for gender demographics to include percentage signs behind 'Percentage of Players' rounded 2 decimal places\n",
    "gender_demographics_df.style.format({'Percentage of Players': '{:,.2f}%'})"
   ]
  },
  {
   "cell_type": "markdown",
   "metadata": {},
   "source": [
    "\n",
    "## Purchasing Analysis (Gender)"
   ]
  },
  {
   "cell_type": "code",
   "execution_count": 18,
   "metadata": {},
   "outputs": [],
   "source": [
    "# Find purchase count by gender\n",
    "purchase_count_gender = gender['Purchase ID'].count()"
   ]
  },
  {
   "cell_type": "code",
   "execution_count": 19,
   "metadata": {},
   "outputs": [],
   "source": [
    "# Find average purchase price by gender\n",
    "avg_purch_price = gender['Price'].mean()"
   ]
  },
  {
   "cell_type": "code",
   "execution_count": 20,
   "metadata": {},
   "outputs": [],
   "source": [
    "# Find total purchase value by gender\n",
    "purch_value = gender['Price'].sum()"
   ]
  },
  {
   "cell_type": "code",
   "execution_count": 21,
   "metadata": {},
   "outputs": [],
   "source": [
    "# Find average purchase per person by gender\n",
    "avg_purch_per_person = purch_value/total_gender_count"
   ]
  },
  {
   "cell_type": "code",
   "execution_count": 22,
   "metadata": {},
   "outputs": [],
   "source": [
    "# Put purchase analysis (gender) into a DataFrame\n",
    "purchase_analysis_gender_df = pd.DataFrame({'Purchase Count': purchase_count_gender,\n",
    "                                            'Average Purchase Price': avg_purch_price,\n",
    "                                            'Total Purchase Value': purch_value,\n",
    "                                            'Avg Total Purchase Per Person': avg_purch_per_person})"
   ]
  },
  {
   "cell_type": "code",
   "execution_count": 23,
   "metadata": {},
   "outputs": [
    {
     "data": {
      "text/html": [
       "<style  type=\"text/css\" >\n",
       "</style><table id=\"T_92fa6_\" ><thead>    <tr>        <th class=\"blank level0\" ></th>        <th class=\"col_heading level0 col0\" >Purchase Count</th>        <th class=\"col_heading level0 col1\" >Average Purchase Price</th>        <th class=\"col_heading level0 col2\" >Total Purchase Value</th>        <th class=\"col_heading level0 col3\" >Avg Total Purchase Per Person</th>    </tr>    <tr>        <th class=\"index_name level0\" >Gender</th>        <th class=\"blank\" ></th>        <th class=\"blank\" ></th>        <th class=\"blank\" ></th>        <th class=\"blank\" ></th>    </tr></thead><tbody>\n",
       "                <tr>\n",
       "                        <th id=\"T_92fa6_level0_row0\" class=\"row_heading level0 row0\" >Female</th>\n",
       "                        <td id=\"T_92fa6_row0_col0\" class=\"data row0 col0\" >113</td>\n",
       "                        <td id=\"T_92fa6_row0_col1\" class=\"data row0 col1\" >$3.20</td>\n",
       "                        <td id=\"T_92fa6_row0_col2\" class=\"data row0 col2\" >$361.94</td>\n",
       "                        <td id=\"T_92fa6_row0_col3\" class=\"data row0 col3\" >$4.47</td>\n",
       "            </tr>\n",
       "            <tr>\n",
       "                        <th id=\"T_92fa6_level0_row1\" class=\"row_heading level0 row1\" >Male</th>\n",
       "                        <td id=\"T_92fa6_row1_col0\" class=\"data row1 col0\" >652</td>\n",
       "                        <td id=\"T_92fa6_row1_col1\" class=\"data row1 col1\" >$3.02</td>\n",
       "                        <td id=\"T_92fa6_row1_col2\" class=\"data row1 col2\" >$1,967.64</td>\n",
       "                        <td id=\"T_92fa6_row1_col3\" class=\"data row1 col3\" >$4.07</td>\n",
       "            </tr>\n",
       "            <tr>\n",
       "                        <th id=\"T_92fa6_level0_row2\" class=\"row_heading level0 row2\" >Other / Non-Disclosed</th>\n",
       "                        <td id=\"T_92fa6_row2_col0\" class=\"data row2 col0\" >15</td>\n",
       "                        <td id=\"T_92fa6_row2_col1\" class=\"data row2 col1\" >$3.35</td>\n",
       "                        <td id=\"T_92fa6_row2_col2\" class=\"data row2 col2\" >$50.19</td>\n",
       "                        <td id=\"T_92fa6_row2_col3\" class=\"data row2 col3\" >$4.56</td>\n",
       "            </tr>\n",
       "    </tbody></table>"
      ],
      "text/plain": [
       "<pandas.io.formats.style.Styler at 0x1f0329acc70>"
      ]
     },
     "execution_count": 23,
     "metadata": {},
     "output_type": "execute_result"
    }
   ],
   "source": [
    "# Format style for purchase analysis (gender) to include dollar signs in front of 'Average Purchase Price', 'Total Purchase Value' and 'Avg Total Purchase Per Person' rounded 2 decimal places\n",
    "purchase_analysis_gender_df.style.format({'Average Purchase Price': '${:,.2f}',\n",
    "                                          'Total Purchase Value': '${:,.2f}',\n",
    "                                          'Avg Total Purchase Per Person': '${:,.2f}'})"
   ]
  },
  {
   "cell_type": "markdown",
   "metadata": {},
   "source": [
    "## Age Demographics"
   ]
  },
  {
   "cell_type": "code",
   "execution_count": 24,
   "metadata": {},
   "outputs": [],
   "source": [
    "#Create bins for ages\n",
    "age_bins = [0, 9.9, 14.9, 19.9, 24.9, 29.9, 34.9, 39.9, 130.9]\n",
    "group_names = ['<10', '10-14', '15-19', '20-24', '25-29', '30-34', '35-39', '40+']"
   ]
  },
  {
   "cell_type": "code",
   "execution_count": 25,
   "metadata": {},
   "outputs": [],
   "source": [
    "# Sort values into bins\n",
    "purchase_df['Age Group'] = pd.cut(purchase_df['Age'], age_bins, labels = group_names, include_lowest = True)"
   ]
  },
  {
   "cell_type": "code",
   "execution_count": 26,
   "metadata": {},
   "outputs": [],
   "source": [
    "# Group new data by 'Age Group'\n",
    "ages = purchase_df.groupby('Age Group')"
   ]
  },
  {
   "cell_type": "code",
   "execution_count": 27,
   "metadata": {},
   "outputs": [],
   "source": [
    "# Find number of unique ages from the 'SN' column\n",
    "total_age_count = ages['SN'].nunique()"
   ]
  },
  {
   "cell_type": "code",
   "execution_count": 28,
   "metadata": {},
   "outputs": [],
   "source": [
    "# Find percentages of players according to age\n",
    "age_group_percent = (total_age_count / player_count) * 100"
   ]
  },
  {
   "cell_type": "code",
   "execution_count": 29,
   "metadata": {},
   "outputs": [],
   "source": [
    "# Put age demographics into a DataFrame\n",
    "age_demographics_df = pd.DataFrame({'Total Count': total_age_count,\n",
    "                                    'Percentage of Players': age_group_percent})"
   ]
  },
  {
   "cell_type": "code",
   "execution_count": 30,
   "metadata": {},
   "outputs": [],
   "source": [
    "# Drop 'Age Group' from index\n",
    "age_demographics_df.index.name = ('')"
   ]
  },
  {
   "cell_type": "code",
   "execution_count": 31,
   "metadata": {},
   "outputs": [
    {
     "data": {
      "text/html": [
       "<style  type=\"text/css\" >\n",
       "</style><table id=\"T_d78a1_\" ><thead>    <tr>        <th class=\"blank level0\" ></th>        <th class=\"col_heading level0 col0\" >Total Count</th>        <th class=\"col_heading level0 col1\" >Percentage of Players</th>    </tr>    <tr>        <th class=\"index_name level0\" ></th>        <th class=\"blank\" ></th>        <th class=\"blank\" ></th>    </tr></thead><tbody>\n",
       "                <tr>\n",
       "                        <th id=\"T_d78a1_level0_row0\" class=\"row_heading level0 row0\" ><10</th>\n",
       "                        <td id=\"T_d78a1_row0_col0\" class=\"data row0 col0\" >17</td>\n",
       "                        <td id=\"T_d78a1_row0_col1\" class=\"data row0 col1\" >2.95%</td>\n",
       "            </tr>\n",
       "            <tr>\n",
       "                        <th id=\"T_d78a1_level0_row1\" class=\"row_heading level0 row1\" >10-14</th>\n",
       "                        <td id=\"T_d78a1_row1_col0\" class=\"data row1 col0\" >22</td>\n",
       "                        <td id=\"T_d78a1_row1_col1\" class=\"data row1 col1\" >3.82%</td>\n",
       "            </tr>\n",
       "            <tr>\n",
       "                        <th id=\"T_d78a1_level0_row2\" class=\"row_heading level0 row2\" >15-19</th>\n",
       "                        <td id=\"T_d78a1_row2_col0\" class=\"data row2 col0\" >107</td>\n",
       "                        <td id=\"T_d78a1_row2_col1\" class=\"data row2 col1\" >18.58%</td>\n",
       "            </tr>\n",
       "            <tr>\n",
       "                        <th id=\"T_d78a1_level0_row3\" class=\"row_heading level0 row3\" >20-24</th>\n",
       "                        <td id=\"T_d78a1_row3_col0\" class=\"data row3 col0\" >258</td>\n",
       "                        <td id=\"T_d78a1_row3_col1\" class=\"data row3 col1\" >44.79%</td>\n",
       "            </tr>\n",
       "            <tr>\n",
       "                        <th id=\"T_d78a1_level0_row4\" class=\"row_heading level0 row4\" >25-29</th>\n",
       "                        <td id=\"T_d78a1_row4_col0\" class=\"data row4 col0\" >77</td>\n",
       "                        <td id=\"T_d78a1_row4_col1\" class=\"data row4 col1\" >13.37%</td>\n",
       "            </tr>\n",
       "            <tr>\n",
       "                        <th id=\"T_d78a1_level0_row5\" class=\"row_heading level0 row5\" >30-34</th>\n",
       "                        <td id=\"T_d78a1_row5_col0\" class=\"data row5 col0\" >52</td>\n",
       "                        <td id=\"T_d78a1_row5_col1\" class=\"data row5 col1\" >9.03%</td>\n",
       "            </tr>\n",
       "            <tr>\n",
       "                        <th id=\"T_d78a1_level0_row6\" class=\"row_heading level0 row6\" >35-39</th>\n",
       "                        <td id=\"T_d78a1_row6_col0\" class=\"data row6 col0\" >31</td>\n",
       "                        <td id=\"T_d78a1_row6_col1\" class=\"data row6 col1\" >5.38%</td>\n",
       "            </tr>\n",
       "            <tr>\n",
       "                        <th id=\"T_d78a1_level0_row7\" class=\"row_heading level0 row7\" >40+</th>\n",
       "                        <td id=\"T_d78a1_row7_col0\" class=\"data row7 col0\" >12</td>\n",
       "                        <td id=\"T_d78a1_row7_col1\" class=\"data row7 col1\" >2.08%</td>\n",
       "            </tr>\n",
       "    </tbody></table>"
      ],
      "text/plain": [
       "<pandas.io.formats.style.Styler at 0x1f03295a6d0>"
      ]
     },
     "execution_count": 31,
     "metadata": {},
     "output_type": "execute_result"
    }
   ],
   "source": [
    "# Format style for age demographics to include percentage signs behind 'Percentage of Players' rounded 2 decimal places\n",
    "age_demographics_df.style.format({'Percentage of Players': '{:,.2f}%'})"
   ]
  },
  {
   "cell_type": "markdown",
   "metadata": {},
   "source": [
    "## Purchasing Analysis (Age)"
   ]
  },
  {
   "cell_type": "code",
   "execution_count": 32,
   "metadata": {},
   "outputs": [],
   "source": [
    "# Find purchase count by age\n",
    "purchase_count_age = ages['Purchase ID'].count()"
   ]
  },
  {
   "cell_type": "code",
   "execution_count": 33,
   "metadata": {},
   "outputs": [],
   "source": [
    "# Find average purchase price by age\n",
    "avg_purch_price_age = ages['Price'].mean()"
   ]
  },
  {
   "cell_type": "code",
   "execution_count": 34,
   "metadata": {},
   "outputs": [],
   "source": [
    "# Find total purchase value by age\n",
    "purch_value_age = ages['Price'].sum()"
   ]
  },
  {
   "cell_type": "code",
   "execution_count": 35,
   "metadata": {},
   "outputs": [],
   "source": [
    "# Find average purchase per person by age\n",
    "avg_purch_per_person_age = purch_value_age/total_age_count"
   ]
  },
  {
   "cell_type": "code",
   "execution_count": 36,
   "metadata": {},
   "outputs": [],
   "source": [
    "# Put purchase analysis (age) into a DataFrame\n",
    "purchase_analysis_age_df = pd.DataFrame({'Purchase Count': purchase_count_age,\n",
    "                                         'Average Purchase Price': avg_purch_price_age,\n",
    "                                         'Total Purchase Value': purch_value_age,\n",
    "                                         'Avg Total Purchase Per Person': avg_purch_per_person_age})"
   ]
  },
  {
   "cell_type": "code",
   "execution_count": 37,
   "metadata": {},
   "outputs": [],
   "source": [
    "# Set index to 'Age Ranges'\n",
    "age_demographics_df.index.name = ('Age Ranges')"
   ]
  },
  {
   "cell_type": "code",
   "execution_count": 38,
   "metadata": {},
   "outputs": [
    {
     "data": {
      "text/html": [
       "<style  type=\"text/css\" >\n",
       "</style><table id=\"T_0df7d_\" ><thead>    <tr>        <th class=\"blank level0\" ></th>        <th class=\"col_heading level0 col0\" >Purchase Count</th>        <th class=\"col_heading level0 col1\" >Average Purchase Price</th>        <th class=\"col_heading level0 col2\" >Total Purchase Value</th>        <th class=\"col_heading level0 col3\" >Avg Total Purchase Per Person</th>    </tr>    <tr>        <th class=\"index_name level0\" >Age Ranges</th>        <th class=\"blank\" ></th>        <th class=\"blank\" ></th>        <th class=\"blank\" ></th>        <th class=\"blank\" ></th>    </tr></thead><tbody>\n",
       "                <tr>\n",
       "                        <th id=\"T_0df7d_level0_row0\" class=\"row_heading level0 row0\" ><10</th>\n",
       "                        <td id=\"T_0df7d_row0_col0\" class=\"data row0 col0\" >23</td>\n",
       "                        <td id=\"T_0df7d_row0_col1\" class=\"data row0 col1\" >$3.35</td>\n",
       "                        <td id=\"T_0df7d_row0_col2\" class=\"data row0 col2\" >$77.13</td>\n",
       "                        <td id=\"T_0df7d_row0_col3\" class=\"data row0 col3\" >$4.54</td>\n",
       "            </tr>\n",
       "            <tr>\n",
       "                        <th id=\"T_0df7d_level0_row1\" class=\"row_heading level0 row1\" >10-14</th>\n",
       "                        <td id=\"T_0df7d_row1_col0\" class=\"data row1 col0\" >28</td>\n",
       "                        <td id=\"T_0df7d_row1_col1\" class=\"data row1 col1\" >$2.96</td>\n",
       "                        <td id=\"T_0df7d_row1_col2\" class=\"data row1 col2\" >$82.78</td>\n",
       "                        <td id=\"T_0df7d_row1_col3\" class=\"data row1 col3\" >$3.76</td>\n",
       "            </tr>\n",
       "            <tr>\n",
       "                        <th id=\"T_0df7d_level0_row2\" class=\"row_heading level0 row2\" >15-19</th>\n",
       "                        <td id=\"T_0df7d_row2_col0\" class=\"data row2 col0\" >136</td>\n",
       "                        <td id=\"T_0df7d_row2_col1\" class=\"data row2 col1\" >$3.04</td>\n",
       "                        <td id=\"T_0df7d_row2_col2\" class=\"data row2 col2\" >$412.89</td>\n",
       "                        <td id=\"T_0df7d_row2_col3\" class=\"data row2 col3\" >$3.86</td>\n",
       "            </tr>\n",
       "            <tr>\n",
       "                        <th id=\"T_0df7d_level0_row3\" class=\"row_heading level0 row3\" >20-24</th>\n",
       "                        <td id=\"T_0df7d_row3_col0\" class=\"data row3 col0\" >365</td>\n",
       "                        <td id=\"T_0df7d_row3_col1\" class=\"data row3 col1\" >$3.05</td>\n",
       "                        <td id=\"T_0df7d_row3_col2\" class=\"data row3 col2\" >$1,114.06</td>\n",
       "                        <td id=\"T_0df7d_row3_col3\" class=\"data row3 col3\" >$4.32</td>\n",
       "            </tr>\n",
       "            <tr>\n",
       "                        <th id=\"T_0df7d_level0_row4\" class=\"row_heading level0 row4\" >25-29</th>\n",
       "                        <td id=\"T_0df7d_row4_col0\" class=\"data row4 col0\" >101</td>\n",
       "                        <td id=\"T_0df7d_row4_col1\" class=\"data row4 col1\" >$2.90</td>\n",
       "                        <td id=\"T_0df7d_row4_col2\" class=\"data row4 col2\" >$293.00</td>\n",
       "                        <td id=\"T_0df7d_row4_col3\" class=\"data row4 col3\" >$3.81</td>\n",
       "            </tr>\n",
       "            <tr>\n",
       "                        <th id=\"T_0df7d_level0_row5\" class=\"row_heading level0 row5\" >30-34</th>\n",
       "                        <td id=\"T_0df7d_row5_col0\" class=\"data row5 col0\" >73</td>\n",
       "                        <td id=\"T_0df7d_row5_col1\" class=\"data row5 col1\" >$2.93</td>\n",
       "                        <td id=\"T_0df7d_row5_col2\" class=\"data row5 col2\" >$214.00</td>\n",
       "                        <td id=\"T_0df7d_row5_col3\" class=\"data row5 col3\" >$4.12</td>\n",
       "            </tr>\n",
       "            <tr>\n",
       "                        <th id=\"T_0df7d_level0_row6\" class=\"row_heading level0 row6\" >35-39</th>\n",
       "                        <td id=\"T_0df7d_row6_col0\" class=\"data row6 col0\" >41</td>\n",
       "                        <td id=\"T_0df7d_row6_col1\" class=\"data row6 col1\" >$3.60</td>\n",
       "                        <td id=\"T_0df7d_row6_col2\" class=\"data row6 col2\" >$147.67</td>\n",
       "                        <td id=\"T_0df7d_row6_col3\" class=\"data row6 col3\" >$4.76</td>\n",
       "            </tr>\n",
       "            <tr>\n",
       "                        <th id=\"T_0df7d_level0_row7\" class=\"row_heading level0 row7\" >40+</th>\n",
       "                        <td id=\"T_0df7d_row7_col0\" class=\"data row7 col0\" >13</td>\n",
       "                        <td id=\"T_0df7d_row7_col1\" class=\"data row7 col1\" >$2.94</td>\n",
       "                        <td id=\"T_0df7d_row7_col2\" class=\"data row7 col2\" >$38.24</td>\n",
       "                        <td id=\"T_0df7d_row7_col3\" class=\"data row7 col3\" >$3.19</td>\n",
       "            </tr>\n",
       "    </tbody></table>"
      ],
      "text/plain": [
       "<pandas.io.formats.style.Styler at 0x1f0329beee0>"
      ]
     },
     "execution_count": 38,
     "metadata": {},
     "output_type": "execute_result"
    }
   ],
   "source": [
    "# Format style for purchase analysis (age) to include dollar signs in front of 'Average Purchase Price', 'Total Purchase Value' and 'Avg Total Purchase Per Person' rounded 2 decimal places\n",
    "purchase_analysis_age_df.style.format({'Average Purchase Price': '${:,.2f}',\n",
    "                                       'Total Purchase Value': '${:,.2f}',\n",
    "                                       'Avg Total Purchase Per Person': '${:,.2f}'})"
   ]
  },
  {
   "cell_type": "markdown",
   "metadata": {},
   "source": [
    "## Top Spenders"
   ]
  },
  {
   "cell_type": "code",
   "execution_count": 39,
   "metadata": {},
   "outputs": [],
   "source": [
    "# Group purchase data by 'SN'\n",
    "spender = purchase_df.groupby('SN')"
   ]
  },
  {
   "cell_type": "code",
   "execution_count": 40,
   "metadata": {},
   "outputs": [],
   "source": [
    "# Find purchase count by spender\n",
    "purchase_count_spender = spender['Purchase ID'].count()"
   ]
  },
  {
   "cell_type": "code",
   "execution_count": 41,
   "metadata": {},
   "outputs": [],
   "source": [
    "# Find average purchase price by spender\n",
    "avg_purch_price_spender = spender['Price'].mean()"
   ]
  },
  {
   "cell_type": "code",
   "execution_count": 42,
   "metadata": {},
   "outputs": [],
   "source": [
    "# Find total purchase value by spender\n",
    "purch_value_spender = spender['Price'].sum()"
   ]
  },
  {
   "cell_type": "code",
   "execution_count": 43,
   "metadata": {},
   "outputs": [],
   "source": [
    "# Put top spenders into a DataFrame\n",
    "top_spenders_df = pd.DataFrame({'Purchase Count': purchase_count_spender,\n",
    "                                'Average Purchase Price': avg_purch_price_spender,\n",
    "                                'Total Purchase Value': purch_value_spender,})"
   ]
  },
  {
   "cell_type": "code",
   "execution_count": 44,
   "metadata": {},
   "outputs": [],
   "source": [
    "# Show top 5 spenders\n",
    "top_spenders_df = top_spenders_df.sort_values(['Total Purchase Value'], ascending = False).head()"
   ]
  },
  {
   "cell_type": "code",
   "execution_count": 45,
   "metadata": {},
   "outputs": [
    {
     "data": {
      "text/html": [
       "<style  type=\"text/css\" >\n",
       "</style><table id=\"T_2c7e4_\" ><thead>    <tr>        <th class=\"blank level0\" ></th>        <th class=\"col_heading level0 col0\" >Purchase Count</th>        <th class=\"col_heading level0 col1\" >Average Purchase Price</th>        <th class=\"col_heading level0 col2\" >Total Purchase Value</th>    </tr>    <tr>        <th class=\"index_name level0\" >SN</th>        <th class=\"blank\" ></th>        <th class=\"blank\" ></th>        <th class=\"blank\" ></th>    </tr></thead><tbody>\n",
       "                <tr>\n",
       "                        <th id=\"T_2c7e4_level0_row0\" class=\"row_heading level0 row0\" >Lisosia93</th>\n",
       "                        <td id=\"T_2c7e4_row0_col0\" class=\"data row0 col0\" >5</td>\n",
       "                        <td id=\"T_2c7e4_row0_col1\" class=\"data row0 col1\" >$3.79</td>\n",
       "                        <td id=\"T_2c7e4_row0_col2\" class=\"data row0 col2\" >$18.96</td>\n",
       "            </tr>\n",
       "            <tr>\n",
       "                        <th id=\"T_2c7e4_level0_row1\" class=\"row_heading level0 row1\" >Idastidru52</th>\n",
       "                        <td id=\"T_2c7e4_row1_col0\" class=\"data row1 col0\" >4</td>\n",
       "                        <td id=\"T_2c7e4_row1_col1\" class=\"data row1 col1\" >$3.86</td>\n",
       "                        <td id=\"T_2c7e4_row1_col2\" class=\"data row1 col2\" >$15.45</td>\n",
       "            </tr>\n",
       "            <tr>\n",
       "                        <th id=\"T_2c7e4_level0_row2\" class=\"row_heading level0 row2\" >Chamjask73</th>\n",
       "                        <td id=\"T_2c7e4_row2_col0\" class=\"data row2 col0\" >3</td>\n",
       "                        <td id=\"T_2c7e4_row2_col1\" class=\"data row2 col1\" >$4.61</td>\n",
       "                        <td id=\"T_2c7e4_row2_col2\" class=\"data row2 col2\" >$13.83</td>\n",
       "            </tr>\n",
       "            <tr>\n",
       "                        <th id=\"T_2c7e4_level0_row3\" class=\"row_heading level0 row3\" >Iral74</th>\n",
       "                        <td id=\"T_2c7e4_row3_col0\" class=\"data row3 col0\" >4</td>\n",
       "                        <td id=\"T_2c7e4_row3_col1\" class=\"data row3 col1\" >$3.40</td>\n",
       "                        <td id=\"T_2c7e4_row3_col2\" class=\"data row3 col2\" >$13.62</td>\n",
       "            </tr>\n",
       "            <tr>\n",
       "                        <th id=\"T_2c7e4_level0_row4\" class=\"row_heading level0 row4\" >Iskadarya95</th>\n",
       "                        <td id=\"T_2c7e4_row4_col0\" class=\"data row4 col0\" >3</td>\n",
       "                        <td id=\"T_2c7e4_row4_col1\" class=\"data row4 col1\" >$4.37</td>\n",
       "                        <td id=\"T_2c7e4_row4_col2\" class=\"data row4 col2\" >$13.10</td>\n",
       "            </tr>\n",
       "    </tbody></table>"
      ],
      "text/plain": [
       "<pandas.io.formats.style.Styler at 0x1f0329cf670>"
      ]
     },
     "execution_count": 45,
     "metadata": {},
     "output_type": "execute_result"
    }
   ],
   "source": [
    "# Format style for top spenders to include dollar signs in front of 'Average Purchase Price', 'Total Purchase Value' and 'Avg Total Purchase Per Person' rounded 2 decimal places\n",
    "top_spenders_df.style.format({'Average Purchase Price': '${:,.2f}',\n",
    "                              'Total Purchase Value': '${:,.2f}',\n",
    "                              'Avg Total Purchase Per Person': '${:,.2f}'})"
   ]
  },
  {
   "cell_type": "markdown",
   "metadata": {},
   "source": [
    "## Most Popular Items"
   ]
  },
  {
   "cell_type": "code",
   "execution_count": 46,
   "metadata": {},
   "outputs": [],
   "source": [
    "# Create DataFrame from information related to items\n",
    "items_df = purchase_df[['Item ID', 'Item Name', 'Price']]"
   ]
  },
  {
   "cell_type": "code",
   "execution_count": 47,
   "metadata": {},
   "outputs": [],
   "source": [
    "# Group items by ID and Name\n",
    "items = items_df.groupby(['Item ID', 'Item Name'])"
   ]
  },
  {
   "cell_type": "code",
   "execution_count": 48,
   "metadata": {},
   "outputs": [
    {
     "data": {
      "text/plain": [
       "Item ID  Item Name                                   \n",
       "0        Splinter                                         4\n",
       "1        Crucifer                                         4\n",
       "2        Verdict                                          6\n",
       "3        Phantomlight                                     6\n",
       "4        Bloodlord's Fetish                               5\n",
       "                                                         ..\n",
       "178      Oathbreaker, Last Hope of the Breaking Storm    12\n",
       "179      Wolf, Promise of the Moonwalker                  6\n",
       "181      Reaper's Toll                                    5\n",
       "182      Toothpick                                        3\n",
       "183      Dragon's Greatsword                              3\n",
       "Name: Price, Length: 179, dtype: int64"
      ]
     },
     "execution_count": 48,
     "metadata": {},
     "output_type": "execute_result"
    }
   ],
   "source": [
    "# Find purchase count by item\n",
    "purch_count_item = items['Price'].count()\n",
    "purch_count_item"
   ]
  },
  {
   "cell_type": "code",
   "execution_count": 49,
   "metadata": {},
   "outputs": [],
   "source": [
    "# Find total purchase value by item\n",
    "purch_value_item = items['Price'].sum()"
   ]
  },
  {
   "cell_type": "code",
   "execution_count": 50,
   "metadata": {},
   "outputs": [],
   "source": [
    "# Find item price\n",
    "item_price = purch_value_item/purch_count_item"
   ]
  },
  {
   "cell_type": "code",
   "execution_count": 51,
   "metadata": {},
   "outputs": [],
   "source": [
    "# Put most popular items into a DataFrame\n",
    "most_popular_items_df = pd.DataFrame({'Purchase Count': purch_count_item,\n",
    "                                   'Item Price': item_price,\n",
    "                                   'Total Purchase Value': purch_value_item})"
   ]
  },
  {
   "cell_type": "code",
   "execution_count": 52,
   "metadata": {},
   "outputs": [],
   "source": [
    "most_popular_items_df_format = most_popular_items_df.sort_values(['Purchase Count'], ascending = False).head()"
   ]
  },
  {
   "cell_type": "code",
   "execution_count": 53,
   "metadata": {},
   "outputs": [
    {
     "data": {
      "text/html": [
       "<style  type=\"text/css\" >\n",
       "</style><table id=\"T_b6f2c_\" ><thead>    <tr>        <th class=\"blank\" ></th>        <th class=\"blank level0\" ></th>        <th class=\"col_heading level0 col0\" >Purchase Count</th>        <th class=\"col_heading level0 col1\" >Item Price</th>        <th class=\"col_heading level0 col2\" >Total Purchase Value</th>    </tr>    <tr>        <th class=\"index_name level0\" >Item ID</th>        <th class=\"index_name level1\" >Item Name</th>        <th class=\"blank\" ></th>        <th class=\"blank\" ></th>        <th class=\"blank\" ></th>    </tr></thead><tbody>\n",
       "                <tr>\n",
       "                        <th id=\"T_b6f2c_level0_row0\" class=\"row_heading level0 row0\" >92</th>\n",
       "                        <th id=\"T_b6f2c_level1_row0\" class=\"row_heading level1 row0\" >Final Critic</th>\n",
       "                        <td id=\"T_b6f2c_row0_col0\" class=\"data row0 col0\" >13</td>\n",
       "                        <td id=\"T_b6f2c_row0_col1\" class=\"data row0 col1\" >$4.61</td>\n",
       "                        <td id=\"T_b6f2c_row0_col2\" class=\"data row0 col2\" >$59.99</td>\n",
       "            </tr>\n",
       "            <tr>\n",
       "                        <th id=\"T_b6f2c_level0_row1\" class=\"row_heading level0 row1\" >178</th>\n",
       "                        <th id=\"T_b6f2c_level1_row1\" class=\"row_heading level1 row1\" >Oathbreaker, Last Hope of the Breaking Storm</th>\n",
       "                        <td id=\"T_b6f2c_row1_col0\" class=\"data row1 col0\" >12</td>\n",
       "                        <td id=\"T_b6f2c_row1_col1\" class=\"data row1 col1\" >$4.23</td>\n",
       "                        <td id=\"T_b6f2c_row1_col2\" class=\"data row1 col2\" >$50.76</td>\n",
       "            </tr>\n",
       "            <tr>\n",
       "                        <th id=\"T_b6f2c_level0_row2\" class=\"row_heading level0 row2\" >145</th>\n",
       "                        <th id=\"T_b6f2c_level1_row2\" class=\"row_heading level1 row2\" >Fiery Glass Crusader</th>\n",
       "                        <td id=\"T_b6f2c_row2_col0\" class=\"data row2 col0\" >9</td>\n",
       "                        <td id=\"T_b6f2c_row2_col1\" class=\"data row2 col1\" >$4.58</td>\n",
       "                        <td id=\"T_b6f2c_row2_col2\" class=\"data row2 col2\" >$41.22</td>\n",
       "            </tr>\n",
       "            <tr>\n",
       "                        <th id=\"T_b6f2c_level0_row3\" class=\"row_heading level0 row3\" >132</th>\n",
       "                        <th id=\"T_b6f2c_level1_row3\" class=\"row_heading level1 row3\" >Persuasion</th>\n",
       "                        <td id=\"T_b6f2c_row3_col0\" class=\"data row3 col0\" >9</td>\n",
       "                        <td id=\"T_b6f2c_row3_col1\" class=\"data row3 col1\" >$3.22</td>\n",
       "                        <td id=\"T_b6f2c_row3_col2\" class=\"data row3 col2\" >$28.99</td>\n",
       "            </tr>\n",
       "            <tr>\n",
       "                        <th id=\"T_b6f2c_level0_row4\" class=\"row_heading level0 row4\" >108</th>\n",
       "                        <th id=\"T_b6f2c_level1_row4\" class=\"row_heading level1 row4\" >Extraction, Quickblade Of Trembling Hands</th>\n",
       "                        <td id=\"T_b6f2c_row4_col0\" class=\"data row4 col0\" >9</td>\n",
       "                        <td id=\"T_b6f2c_row4_col1\" class=\"data row4 col1\" >$3.53</td>\n",
       "                        <td id=\"T_b6f2c_row4_col2\" class=\"data row4 col2\" >$31.77</td>\n",
       "            </tr>\n",
       "    </tbody></table>"
      ],
      "text/plain": [
       "<pandas.io.formats.style.Styler at 0x1f0329d9640>"
      ]
     },
     "execution_count": 53,
     "metadata": {},
     "output_type": "execute_result"
    }
   ],
   "source": [
    "# Format style for most popular items to include dollar signs in front of 'Average Purchase Price', 'Total Purchase Value' and 'Avg Total Purchase Per Person' rounded 2 decimal places\n",
    "most_popular_items_df_format.style.format({'Item Price': '${:,.2f}',\n",
    "                                           'Total Purchase Value': '${:,.2f}'})"
   ]
  },
  {
   "cell_type": "markdown",
   "metadata": {},
   "source": [
    "## Most Profitable Items"
   ]
  },
  {
   "cell_type": "code",
   "execution_count": 54,
   "metadata": {},
   "outputs": [],
   "source": [
    "# Sort by 'Total Purchase Value'\n",
    "most_profitable_items_df = most_popular_items_df.sort_values(['Total Purchase Value'], ascending=False).head()"
   ]
  },
  {
   "cell_type": "code",
   "execution_count": 55,
   "metadata": {},
   "outputs": [
    {
     "data": {
      "text/html": [
       "<style  type=\"text/css\" >\n",
       "</style><table id=\"T_27956_\" ><thead>    <tr>        <th class=\"blank\" ></th>        <th class=\"blank level0\" ></th>        <th class=\"col_heading level0 col0\" >Purchase Count</th>        <th class=\"col_heading level0 col1\" >Item Price</th>        <th class=\"col_heading level0 col2\" >Total Purchase Value</th>    </tr>    <tr>        <th class=\"index_name level0\" >Item ID</th>        <th class=\"index_name level1\" >Item Name</th>        <th class=\"blank\" ></th>        <th class=\"blank\" ></th>        <th class=\"blank\" ></th>    </tr></thead><tbody>\n",
       "                <tr>\n",
       "                        <th id=\"T_27956_level0_row0\" class=\"row_heading level0 row0\" >92</th>\n",
       "                        <th id=\"T_27956_level1_row0\" class=\"row_heading level1 row0\" >Final Critic</th>\n",
       "                        <td id=\"T_27956_row0_col0\" class=\"data row0 col0\" >13</td>\n",
       "                        <td id=\"T_27956_row0_col1\" class=\"data row0 col1\" >$4.61</td>\n",
       "                        <td id=\"T_27956_row0_col2\" class=\"data row0 col2\" >$59.99</td>\n",
       "            </tr>\n",
       "            <tr>\n",
       "                        <th id=\"T_27956_level0_row1\" class=\"row_heading level0 row1\" >178</th>\n",
       "                        <th id=\"T_27956_level1_row1\" class=\"row_heading level1 row1\" >Oathbreaker, Last Hope of the Breaking Storm</th>\n",
       "                        <td id=\"T_27956_row1_col0\" class=\"data row1 col0\" >12</td>\n",
       "                        <td id=\"T_27956_row1_col1\" class=\"data row1 col1\" >$4.23</td>\n",
       "                        <td id=\"T_27956_row1_col2\" class=\"data row1 col2\" >$50.76</td>\n",
       "            </tr>\n",
       "            <tr>\n",
       "                        <th id=\"T_27956_level0_row2\" class=\"row_heading level0 row2\" >82</th>\n",
       "                        <th id=\"T_27956_level1_row2\" class=\"row_heading level1 row2\" >Nirvana</th>\n",
       "                        <td id=\"T_27956_row2_col0\" class=\"data row2 col0\" >9</td>\n",
       "                        <td id=\"T_27956_row2_col1\" class=\"data row2 col1\" >$4.90</td>\n",
       "                        <td id=\"T_27956_row2_col2\" class=\"data row2 col2\" >$44.10</td>\n",
       "            </tr>\n",
       "            <tr>\n",
       "                        <th id=\"T_27956_level0_row3\" class=\"row_heading level0 row3\" >145</th>\n",
       "                        <th id=\"T_27956_level1_row3\" class=\"row_heading level1 row3\" >Fiery Glass Crusader</th>\n",
       "                        <td id=\"T_27956_row3_col0\" class=\"data row3 col0\" >9</td>\n",
       "                        <td id=\"T_27956_row3_col1\" class=\"data row3 col1\" >$4.58</td>\n",
       "                        <td id=\"T_27956_row3_col2\" class=\"data row3 col2\" >$41.22</td>\n",
       "            </tr>\n",
       "            <tr>\n",
       "                        <th id=\"T_27956_level0_row4\" class=\"row_heading level0 row4\" >103</th>\n",
       "                        <th id=\"T_27956_level1_row4\" class=\"row_heading level1 row4\" >Singed Scalpel</th>\n",
       "                        <td id=\"T_27956_row4_col0\" class=\"data row4 col0\" >8</td>\n",
       "                        <td id=\"T_27956_row4_col1\" class=\"data row4 col1\" >$4.35</td>\n",
       "                        <td id=\"T_27956_row4_col2\" class=\"data row4 col2\" >$34.80</td>\n",
       "            </tr>\n",
       "    </tbody></table>"
      ],
      "text/plain": [
       "<pandas.io.formats.style.Styler at 0x1f0329d9520>"
      ]
     },
     "execution_count": 55,
     "metadata": {},
     "output_type": "execute_result"
    }
   ],
   "source": [
    "# Format style for most profitable items to include dollar signs in front of 'Average Purchase Price', 'Total Purchase Value' and 'Avg Total Purchase Per Person' rounded 2 decimal places\n",
    "most_profitable_items_df.style.format({'Item Price': '${:,.2f}',\n",
    "                                       'Total Purchase Value': '${:,.2f}'})"
   ]
  }
 ],
 "metadata": {
  "anaconda-cloud": {},
  "kernel_info": {
   "name": "python3"
  },
  "kernelspec": {
   "display_name": "Python 3",
   "language": "python",
   "name": "python3"
  },
  "language_info": {
   "codemirror_mode": {
    "name": "ipython",
    "version": 3
   },
   "file_extension": ".py",
   "mimetype": "text/x-python",
   "name": "python",
   "nbconvert_exporter": "python",
   "pygments_lexer": "ipython3",
   "version": "3.8.8"
  },
  "latex_envs": {
   "LaTeX_envs_menu_present": true,
   "autoclose": false,
   "autocomplete": true,
   "bibliofile": "biblio.bib",
   "cite_by": "apalike",
   "current_citInitial": 1,
   "eqLabelWithNumbers": true,
   "eqNumInitial": 1,
   "hotkeys": {
    "equation": "Ctrl-E",
    "itemize": "Ctrl-I"
   },
   "labels_anchors": false,
   "latex_user_defs": false,
   "report_style_numbering": false,
   "user_envs_cfg": false
  },
  "nteract": {
   "version": "0.2.0"
  }
 },
 "nbformat": 4,
 "nbformat_minor": 2
}
